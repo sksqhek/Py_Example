{
 "cells": [
  {
   "cell_type": "markdown",
   "metadata": {},
   "source": [
    "# 프로젝트:얼굴 인식하여 캐릭터 씌우기"
   ]
  },
  {
   "cell_type": "markdown",
   "metadata": {},
   "source": [
    "## Face Detection vs Face Recognition"
   ]
  },
  {
   "cell_type": "markdown",
   "metadata": {},
   "source": [
    "패키지 설치\n",
    "> pip install mediapipe"
   ]
  },
  {
   "cell_type": "code",
   "execution_count": 34,
   "metadata": {},
   "outputs": [
    {
     "name": "stdout",
     "output_type": "stream",
     "text": [
      "Ignoring empty camera frame.\n"
     ]
    }
   ],
   "source": [
    "import cv2\n",
    "import mediapipe as mp\n",
    "\n",
    "def overlay(image, x, y, w, h, overlay_image):\n",
    "    alpha = overlay_image[:, :, 3]#BGRA\n",
    "    mask_image = alpha / 255 #1은 불투명 0은 투명\n",
    "    \n",
    "    for c in range(0,3):#BGR\n",
    "        image[y-h:y+h, x-w:x+w, c] = (overlay_image[:,:,c] * mask_image) + (image[y-h:y+h, x-w:x+w, c] * (1 - mask_image))\n",
    "    \n",
    "\n",
    "mp_face_detection = mp.solutions.face_detection#얼굴 검출\n",
    "mp_drawing = mp.solutions.drawing_utils#얼굴 특징 그리기\n",
    "\n",
    "#동영상 파일 열기 \n",
    "cap = cv2.VideoCapture('face_video.mp4')\n",
    "\n",
    "#이미지 불러오기\n",
    "image_right_eye = cv2.imread('right_eye.png', cv2.IMREAD_UNCHANGED)#100 x 100\n",
    "image_left_eye = cv2.imread('left_eye.png', cv2.IMREAD_UNCHANGED)#100 x 100\n",
    "image_nose_tip = cv2.imread('nose_tip.png', cv2.IMREAD_UNCHANGED)#300 x 100\n",
    "\n",
    "\n",
    "#with mp_face_detection.FaceDetection(얼굴인식 거리(0이면 5미터 이하 1이면 5미터 이상), 얼굴 인식 확률) as face_detection:\n",
    "with mp_face_detection.FaceDetection(model_selection=0, min_detection_confidence=0.7) as face_detection:\n",
    "    while cap.isOpened():\n",
    "        success, image = cap.read()\n",
    "        if not success:\n",
    "            print(\"Ignoring empty camera frame.\")            \n",
    "            break\n",
    "\n",
    "        # To improve performance, optionally mark the image as not writeable to\n",
    "        # pass by reference.\n",
    "        image.flags.writeable = False\n",
    "        image = cv2.cvtColor(image, cv2.COLOR_BGR2RGB)#얼굴인식 모듈에서 RGB를 사용해서 변환해주기\n",
    "        results = face_detection.process(image)#찾은 얼굴 \n",
    "\n",
    "        # Draw the face detection annotations on the image.\n",
    "        image.flags.writeable = True\n",
    "        image = cv2.cvtColor(image, cv2.COLOR_RGB2BGR)#원래댜로 되돌리기\n",
    "        \n",
    "        if results.detections:\n",
    "            #6개의 특징(오른쪽눈, 왼쪽눈, 코끝부분, 입중심, 오른쪽 귀, 왼쪽귀(귀구멍 앞))\n",
    "            for detection in results.detections:\n",
    "                #mp_drawing.draw_detection(image, detection)#찾은 얼굴에 사각형 점 그리기\n",
    "                #print(detection)\n",
    "                \n",
    "                #특정위치 가져오기\n",
    "                keypoints = detection.location_data.relative_keypoints\n",
    "                right_eye = keypoints[0]#오른족 눈\n",
    "                left_eye = keypoints[1]#왼족 눈\n",
    "                nose_tip = keypoints[2]#코끝\n",
    "                \n",
    "                \n",
    "                h, w, _ = image.shape#이미지 정보 얻어오기\n",
    "                right_eye = (int(right_eye.x * w) - 20,int(right_eye.y * h) - 100)\n",
    "                left_eye = (int(left_eye.x * w) + 20,int(left_eye.y * h) - 100)\n",
    "                nose_tip = (int(nose_tip.x * w),int(nose_tip.y * h))\n",
    "                \n",
    "                #양눈에 원 그리기\n",
    "                #cv2.circle(image, right_eye, 50,(255,0,0), 10, cv2.LINE_AA)\n",
    "                #cv2.circle(image, left_eye, 50,(0,255,0), 10, cv2.LINE_AA)\n",
    "                #cv2.circle(image, nose_tip, 75,(0,255,255), 10, cv2.LINE_AA)\n",
    "                \n",
    "                #눈과 코에 이미지 그려주기\n",
    "                #이미지의 크기가 100이기때문에 주앙을 맞추기 위해 + - 50을 해줌\n",
    "                #image[right_eye[1] - 50:right_eye[1] + 50, right_eye[0] - 50:right_eye[0] + 50] = image_right_eye\n",
    "                #image[left_eye[1] - 50:left_eye[1] + 50, left_eye[0] - 50:left_eye[0] + 50] = image_left_eye\n",
    "                #image[nose_tip[1] - 50:nose_tip[1] + 50, nose_tip[0] - 150:nose_tip[0] + 150] = image_nose_tip\n",
    "                \n",
    "                #image, x, y, w, h, overay_iamge\n",
    "                overlay(image, *right_eye, 50,50,image_right_eye)\n",
    "                overlay(image, *left_eye, 50,50,image_left_eye)\n",
    "                overlay(image, *nose_tip, 150,50,image_nose_tip)\n",
    "                \n",
    "                \n",
    "        # Flip the image horizontally for a selfie-view display.\n",
    "        #cv2.imshow('MediaPipe Face Detection', cv2.flip(image, 1))\n",
    "        cv2.imshow('MediaPipe Face Detection', cv2.resize(image, None,fx=0.5,fy=0.5))\n",
    "        \n",
    "        if cv2.waitKey(1) == ord('q'):\n",
    "            break\n",
    "cap.release()\n",
    "cv2.destroyAllWindows()"
   ]
  },
  {
   "cell_type": "code",
   "execution_count": 28,
   "metadata": {},
   "outputs": [
    {
     "data": {
      "text/plain": [
       "(100, 100, 4)"
      ]
     },
     "execution_count": 28,
     "metadata": {},
     "output_type": "execute_result"
    }
   ],
   "source": [
    "img = cv2.imread('right_eye.png',cv2.IMREAD_UNCHANGED)\n",
    "img.shape"
   ]
  },
  {
   "cell_type": "code",
   "execution_count": null,
   "metadata": {},
   "outputs": [],
   "source": []
  }
 ],
 "metadata": {
  "kernelspec": {
   "display_name": "Python 3",
   "language": "python",
   "name": "python3"
  },
  "language_info": {
   "codemirror_mode": {
    "name": "ipython",
    "version": 3
   },
   "file_extension": ".py",
   "mimetype": "text/x-python",
   "name": "python",
   "nbconvert_exporter": "python",
   "pygments_lexer": "ipython3",
   "version": "3.8.3"
  }
 },
 "nbformat": 4,
 "nbformat_minor": 4
}
